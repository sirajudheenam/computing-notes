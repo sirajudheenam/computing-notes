{
 "cells": [
  {
   "cell_type": "code",
   "execution_count": null,
   "id": "13eb6678-1516-422a-90f1-44897fbff121",
   "metadata": {},
   "outputs": [],
   "source": [
    "print(\"Allah is great\")\n"
   ]
  },
  {
   "cell_type": "code",
   "execution_count": null,
   "id": "bef5569c-e715-4d2a-b03c-9d13340977d7",
   "metadata": {},
   "outputs": [],
   "source": []
  },
  {
   "cell_type": "code",
   "execution_count": null,
   "id": "ac7f8437-971e-4e59-8de6-9c135f5a3dab",
   "metadata": {},
   "outputs": [],
   "source": []
  }
 ],
 "metadata": {
  "kernelspec": {
   "display_name": "Python 3 (ipykernel)",
   "language": "python",
   "name": "python3"
  },
  "language_info": {
   "codemirror_mode": {
    "name": "ipython",
    "version": 3
   },
   "file_extension": ".py",
   "mimetype": "text/x-python",
   "name": "python",
   "nbconvert_exporter": "python",
   "pygments_lexer": "ipython3",
   "version": "3.8.13"
  }
 },
 "nbformat": 4,
 "nbformat_minor": 5
}
